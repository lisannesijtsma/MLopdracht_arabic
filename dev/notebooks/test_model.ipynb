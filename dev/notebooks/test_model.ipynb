{
 "cells": [
  {
   "cell_type": "code",
   "execution_count": 1,
   "metadata": {},
   "outputs": [],
   "source": [
    "import sys\n",
    "\n",
    "sys.path.insert(0, \"../..\")"
   ]
  },
  {
   "cell_type": "code",
   "execution_count": 2,
   "metadata": {},
   "outputs": [],
   "source": [
    "from src.data.datasets import get_arabic\n",
    "from src.settings import presets\n"
   ]
  },
  {
   "cell_type": "code",
   "execution_count": 3,
   "metadata": {},
   "outputs": [
    {
     "data": {
      "text/plain": [
       "Settings(datadir=PosixPath('/workspaces/MLopdracht/data/raw'), testurl=HttpUrl('https://archive.ics.uci.edu/ml/machine-learning-databases/00195/Test_Arabic_Digit.txt', ), trainurl=HttpUrl('https://archive.ics.uci.edu/ml/machine-learning-databases/00195/Train_Arabic_Digit.txt', ), testfile=PosixPath('ArabicTest.txt'), trainfile=PosixPath('ArabicTrain.txt'), modeldir=PosixPath('/workspaces/MLopdracht/models'), logdir=PosixPath('/workspaces/MLopdracht/logs'), modelname='model.pt', batchsize=64)"
      ]
     },
     "execution_count": 3,
     "metadata": {},
     "output_type": "execute_result"
    }
   ],
   "source": [
    "presets"
   ]
  },
  {
   "cell_type": "code",
   "execution_count": 45,
   "metadata": {},
   "outputs": [
    {
     "name": "stderr",
     "output_type": "stream",
     "text": [
      "\u001b[32m2023-06-02 16:09:47.282\u001b[0m | \u001b[1mINFO    \u001b[0m | \u001b[36msrc.data_tools\u001b[0m:\u001b[36mget_file\u001b[0m:\u001b[36m61\u001b[0m - \u001b[1mFile /workspaces/MLopdracht/data/raw/ArabicTrain.txt already exists, skip download\u001b[0m\n",
      "\u001b[32m2023-06-02 16:09:47.285\u001b[0m | \u001b[1mINFO    \u001b[0m | \u001b[36msrc.data_tools\u001b[0m:\u001b[36mget_file\u001b[0m:\u001b[36m61\u001b[0m - \u001b[1mFile /workspaces/MLopdracht/data/raw/ArabicTest.txt already exists, skip download\u001b[0m\n",
      "\u001b[32m2023-06-02 16:09:47.286\u001b[0m | \u001b[1mINFO    \u001b[0m | \u001b[36msrc.datasets\u001b[0m:\u001b[36mget_arabic\u001b[0m:\u001b[36m33\u001b[0m - \u001b[1mLoading data from /workspaces/MLopdracht/data/raw/ArabicTrain.txt and /workspaces/MLopdracht/data/raw/ArabicTest.txt\u001b[0m\n",
      "\u001b[32m2023-06-02 16:09:47.796\u001b[0m | \u001b[1mINFO    \u001b[0m | \u001b[36msrc.datasets\u001b[0m:\u001b[36mget_arabic\u001b[0m:\u001b[36m49\u001b[0m - \u001b[1mReturning trainstreamer, teststreamer\u001b[0m\n"
     ]
    }
   ],
   "source": [
    "trainstreamer, teststreamer = get_arabic(presets)"
   ]
  },
  {
   "cell_type": "code",
   "execution_count": 46,
   "metadata": {},
   "outputs": [
    {
     "data": {
      "text/plain": [
       "(torch.Size([64, 55, 13]), torch.Size([64]))"
      ]
     },
     "execution_count": 46,
     "metadata": {},
     "output_type": "execute_result"
    }
   ],
   "source": [
    "x, y = next(iter(trainstreamer.stream()))\n",
    "x.shape, y.shape"
   ]
  },
  {
   "cell_type": "code",
   "execution_count": 48,
   "metadata": {},
   "outputs": [],
   "source": [
    "from src.models import metrics\n",
    "accuracy = metrics.Accuracy()\n"
   ]
  },
  {
   "cell_type": "code",
   "execution_count": 52,
   "metadata": {},
   "outputs": [
    {
     "ename": "ImportError",
     "evalue": "cannot import name 'TrainerSettings' from 'src.settings' (/workspaces/MLopdracht/dev/notebooks/../../src/settings.py)",
     "output_type": "error",
     "traceback": [
      "\u001b[0;31m---------------------------------------------------------------------------\u001b[0m",
      "\u001b[0;31mImportError\u001b[0m                               Traceback (most recent call last)",
      "Cell \u001b[0;32mIn[52], line 1\u001b[0m\n\u001b[0;32m----> 1\u001b[0m \u001b[39mfrom\u001b[39;00m \u001b[39msrc\u001b[39;00m\u001b[39m.\u001b[39;00m\u001b[39msettings\u001b[39;00m \u001b[39mimport\u001b[39;00m TrainerSettings\n\u001b[1;32m      2\u001b[0m \u001b[39mfrom\u001b[39;00m \u001b[39msrc\u001b[39;00m\u001b[39m.\u001b[39;00m\u001b[39msettings\u001b[39;00m \u001b[39mimport\u001b[39;00m TrainerSettings\n",
      "\u001b[0;31mImportError\u001b[0m: cannot import name 'TrainerSettings' from 'src.settings' (/workspaces/MLopdracht/dev/notebooks/../../src/settings.py)"
     ]
    }
   ],
   "source": [
    "from src.settings import TrainerSettings\n",
    "from src.settings import TrainerSettings\n"
   ]
  },
  {
   "cell_type": "code",
   "execution_count": 55,
   "metadata": {},
   "outputs": [
    {
     "ename": "ImportError",
     "evalue": "cannot import name 'rnn_models' from 'src.models' (/workspaces/MLopdracht/dev/notebooks/../../src/models.py)",
     "output_type": "error",
     "traceback": [
      "\u001b[0;31m---------------------------------------------------------------------------\u001b[0m",
      "\u001b[0;31mImportError\u001b[0m                               Traceback (most recent call last)",
      "Cell \u001b[0;32mIn[55], line 1\u001b[0m\n\u001b[0;32m----> 1\u001b[0m \u001b[39mfrom\u001b[39;00m \u001b[39msrc\u001b[39;00m\u001b[39m.\u001b[39;00m\u001b[39mmodels\u001b[39;00m \u001b[39mimport\u001b[39;00m rnn_models\n\u001b[1;32m      2\u001b[0m \u001b[39mfrom\u001b[39;00m \u001b[39msrc\u001b[39;00m\u001b[39m.\u001b[39;00m\u001b[39msettings\u001b[39;00m \u001b[39mimport\u001b[39;00m TrainerSettings\n\u001b[1;32m      4\u001b[0m \u001b[39mimport\u001b[39;00m \u001b[39mtorch\u001b[39;00m\n",
      "\u001b[0;31mImportError\u001b[0m: cannot import name 'rnn_models' from 'src.models' (/workspaces/MLopdracht/dev/notebooks/../../src/models.py)"
     ]
    }
   ],
   "source": [
    "from src.models import rnn_models\n",
    "from src.settings import TrainerSettings\n",
    "\n",
    "import torch\n",
    "from src.models import train_model\n",
    "\n",
    "settings = TrainerSettings(\n",
    "    epochs=10,\n",
    "    metrics=[accuracy],\n",
    "    logdir=\"modellog\",\n",
    "    train_steps=len(trainstreamer),\n",
    "    valid_steps=len(teststreamer),\n",
    "    tunewrite=[\"tensorboard\", \"gin\"]\n",
    "    )\n",
    "trainer = train_model.Trainer(\n",
    "    model=rnn_models.GRUmodel,\n",
    "    settings=settings,\n",
    "    loss_fn=torch.nn.CrossEntropyLoss(),\n",
    "    optimizer=torch.optim.Adam,\n",
    "    traindataloader=trainstreamer,\n",
    "    validdataloader=teststreamer,\n",
    "    scheduler=torch.optim.lr_scheduler.ReduceLROnPlateau\n",
    "    )\n",
    "trainer.loop()\n"
   ]
  },
  {
   "cell_type": "code",
   "execution_count": 21,
   "metadata": {},
   "outputs": [
    {
     "ename": "ValueError",
     "evalue": "No configurable matching 'models.GRUmodel'.\n  In file \"test.gin\", line 8\n    models.GRUmodel.config = {",
     "output_type": "error",
     "traceback": [
      "\u001b[0;31m---------------------------------------------------------------------------\u001b[0m",
      "\u001b[0;31mValueError\u001b[0m                                Traceback (most recent call last)",
      "Cell \u001b[0;32mIn[21], line 12\u001b[0m\n\u001b[1;32m     10\u001b[0m modeldir \u001b[39m=\u001b[39m Path(\u001b[39m\"\u001b[39m\u001b[39m../../models/arabic/\u001b[39m\u001b[39m\"\u001b[39m)\u001b[39m.\u001b[39mresolve()\n\u001b[1;32m     11\u001b[0m \u001b[39m# gin.parse_config_file(\"gestures.gin\")\u001b[39;00m\n\u001b[0;32m---> 12\u001b[0m gin\u001b[39m.\u001b[39;49mparse_config_file(\u001b[39m\"\u001b[39;49m\u001b[39mtest.gin\u001b[39;49m\u001b[39m\"\u001b[39;49m)\n\u001b[1;32m     14\u001b[0m config \u001b[39m=\u001b[39m {\n\u001b[1;32m     15\u001b[0m     \u001b[39m\"\u001b[39m\u001b[39minput_size\u001b[39m\u001b[39m\"\u001b[39m:\u001b[39m3\u001b[39m,\n\u001b[1;32m     16\u001b[0m     \u001b[39m\"\u001b[39m\u001b[39mhidden_size\u001b[39m\u001b[39m\"\u001b[39m:\u001b[39m128\u001b[39m,\n\u001b[0;32m   (...)\u001b[0m\n\u001b[1;32m     19\u001b[0m     \u001b[39m\"\u001b[39m\u001b[39moutput_size\u001b[39m\u001b[39m\"\u001b[39m:\u001b[39m20\u001b[39m\n\u001b[1;32m     20\u001b[0m }\n\u001b[1;32m     22\u001b[0m \u001b[39mwith\u001b[39;00m mlflow\u001b[39m.\u001b[39mstart_run():\n\u001b[1;32m     23\u001b[0m \n\u001b[1;32m     24\u001b[0m     \u001b[39m# mlflow.log_params(gin.get_bindings(\"BaseRNN\"))\u001b[39;00m\n",
      "File \u001b[0;32m/workspaces/MLopdracht/.venv/lib/python3.9/site-packages/gin/config.py:2450\u001b[0m, in \u001b[0;36mparse_config_file\u001b[0;34m(config_file, skip_unknown, print_includes_and_imports)\u001b[0m\n\u001b[1;32m   2448\u001b[0m \u001b[39mif\u001b[39;00m existence_check(config_file_with_prefix):\n\u001b[1;32m   2449\u001b[0m   \u001b[39mwith\u001b[39;00m reader(config_file_with_prefix) \u001b[39mas\u001b[39;00m f:\n\u001b[0;32m-> 2450\u001b[0m     includes, imports \u001b[39m=\u001b[39m parse_config(f, skip_unknown\u001b[39m=\u001b[39;49mskip_unknown)\n\u001b[1;32m   2451\u001b[0m     results \u001b[39m=\u001b[39m ParsedConfigFileIncludesAndImports(\n\u001b[1;32m   2452\u001b[0m         filename\u001b[39m=\u001b[39mconfig_file, imports\u001b[39m=\u001b[39mimports, includes\u001b[39m=\u001b[39mincludes)\n\u001b[1;32m   2453\u001b[0m     \u001b[39mif\u001b[39;00m print_includes_and_imports:\n",
      "File \u001b[0;32m/workspaces/MLopdracht/.venv/lib/python3.9/site-packages/gin/config.py:2331\u001b[0m, in \u001b[0;36mparse_config\u001b[0;34m(bindings, skip_unknown)\u001b[0m\n\u001b[1;32m   2329\u001b[0m   \u001b[39melif\u001b[39;00m \u001b[39mnot\u001b[39;00m _should_skip(selector, skip_unknown):\n\u001b[1;32m   2330\u001b[0m     \u001b[39mwith\u001b[39;00m utils\u001b[39m.\u001b[39mtry_with_location(location):\n\u001b[0;32m-> 2331\u001b[0m       bind_parameter((scope, selector, arg_name), value)\n\u001b[1;32m   2332\u001b[0m \u001b[39melif\u001b[39;00m \u001b[39misinstance\u001b[39m(statement, config_parser\u001b[39m.\u001b[39mBlockDeclaration):\n\u001b[1;32m   2333\u001b[0m   \u001b[39mif\u001b[39;00m \u001b[39mnot\u001b[39;00m _should_skip(statement\u001b[39m.\u001b[39mselector, skip_unknown):\n",
      "File \u001b[0;32m~/.pyenv/versions/3.9.16/lib/python3.9/contextlib.py:137\u001b[0m, in \u001b[0;36m_GeneratorContextManager.__exit__\u001b[0;34m(self, typ, value, traceback)\u001b[0m\n\u001b[1;32m    135\u001b[0m     value \u001b[39m=\u001b[39m typ()\n\u001b[1;32m    136\u001b[0m \u001b[39mtry\u001b[39;00m:\n\u001b[0;32m--> 137\u001b[0m     \u001b[39mself\u001b[39;49m\u001b[39m.\u001b[39;49mgen\u001b[39m.\u001b[39;49mthrow(typ, value, traceback)\n\u001b[1;32m    138\u001b[0m \u001b[39mexcept\u001b[39;00m \u001b[39mStopIteration\u001b[39;00m \u001b[39mas\u001b[39;00m exc:\n\u001b[1;32m    139\u001b[0m     \u001b[39m# Suppress StopIteration *unless* it's the same exception that\u001b[39;00m\n\u001b[1;32m    140\u001b[0m     \u001b[39m# was passed to throw().  This prevents a StopIteration\u001b[39;00m\n\u001b[1;32m    141\u001b[0m     \u001b[39m# raised inside the \"with\" statement from being suppressed.\u001b[39;00m\n\u001b[1;32m    142\u001b[0m     \u001b[39mreturn\u001b[39;00m exc \u001b[39mis\u001b[39;00m \u001b[39mnot\u001b[39;00m value\n",
      "File \u001b[0;32m/workspaces/MLopdracht/.venv/lib/python3.9/site-packages/gin/utils.py:60\u001b[0m, in \u001b[0;36mtry_with_location\u001b[0;34m(location)\u001b[0m\n\u001b[1;32m     58\u001b[0m \u001b[39mif\u001b[39;00m \u001b[39misinstance\u001b[39m(exception, \u001b[39mSyntaxError\u001b[39;00m):\n\u001b[1;32m     59\u001b[0m   \u001b[39mraise\u001b[39;00m  \u001b[39m# SyntaxErrors already include location information.\u001b[39;00m\n\u001b[0;32m---> 60\u001b[0m augment_exception_message_and_reraise(exception, _format_location(location))\n",
      "File \u001b[0;32m/workspaces/MLopdracht/.venv/lib/python3.9/site-packages/gin/utils.py:41\u001b[0m, in \u001b[0;36maugment_exception_message_and_reraise\u001b[0;34m(exception, message)\u001b[0m\n\u001b[1;32m     39\u001b[0m proxy \u001b[39m=\u001b[39m ExceptionProxy()\n\u001b[1;32m     40\u001b[0m ExceptionProxy\u001b[39m.\u001b[39m\u001b[39m__qualname__\u001b[39m \u001b[39m=\u001b[39m \u001b[39mtype\u001b[39m(exception)\u001b[39m.\u001b[39m\u001b[39m__qualname__\u001b[39m\n\u001b[0;32m---> 41\u001b[0m \u001b[39mraise\u001b[39;00m proxy\u001b[39m.\u001b[39mwith_traceback(exception\u001b[39m.\u001b[39m__traceback__) \u001b[39mfrom\u001b[39;00m \u001b[39mNone\u001b[39;00m\n",
      "File \u001b[0;32m/workspaces/MLopdracht/.venv/lib/python3.9/site-packages/gin/utils.py:56\u001b[0m, in \u001b[0;36mtry_with_location\u001b[0;34m(location)\u001b[0m\n\u001b[1;32m     53\u001b[0m \u001b[39m@contextlib\u001b[39m\u001b[39m.\u001b[39mcontextmanager\n\u001b[1;32m     54\u001b[0m \u001b[39mdef\u001b[39;00m \u001b[39mtry_with_location\u001b[39m(location):\n\u001b[1;32m     55\u001b[0m   \u001b[39mtry\u001b[39;00m:\n\u001b[0;32m---> 56\u001b[0m     \u001b[39myield\u001b[39;00m\n\u001b[1;32m     57\u001b[0m   \u001b[39mexcept\u001b[39;00m \u001b[39mException\u001b[39;00m \u001b[39mas\u001b[39;00m exception:  \u001b[39m# pylint: disable=broad-except\u001b[39;00m\n\u001b[1;32m     58\u001b[0m     \u001b[39mif\u001b[39;00m \u001b[39misinstance\u001b[39m(exception, \u001b[39mSyntaxError\u001b[39;00m):\n",
      "File \u001b[0;32m/workspaces/MLopdracht/.venv/lib/python3.9/site-packages/gin/config.py:2331\u001b[0m, in \u001b[0;36mparse_config\u001b[0;34m(bindings, skip_unknown)\u001b[0m\n\u001b[1;32m   2329\u001b[0m   \u001b[39melif\u001b[39;00m \u001b[39mnot\u001b[39;00m _should_skip(selector, skip_unknown):\n\u001b[1;32m   2330\u001b[0m     \u001b[39mwith\u001b[39;00m utils\u001b[39m.\u001b[39mtry_with_location(location):\n\u001b[0;32m-> 2331\u001b[0m       bind_parameter((scope, selector, arg_name), value)\n\u001b[1;32m   2332\u001b[0m \u001b[39melif\u001b[39;00m \u001b[39misinstance\u001b[39m(statement, config_parser\u001b[39m.\u001b[39mBlockDeclaration):\n\u001b[1;32m   2333\u001b[0m   \u001b[39mif\u001b[39;00m \u001b[39mnot\u001b[39;00m _should_skip(statement\u001b[39m.\u001b[39mselector, skip_unknown):\n",
      "File \u001b[0;32m/workspaces/MLopdracht/.venv/lib/python3.9/site-packages/gin/config.py:1051\u001b[0m, in \u001b[0;36mbind_parameter\u001b[0;34m(binding_key, value)\u001b[0m\n\u001b[1;32m   1048\u001b[0m \u001b[39mif\u001b[39;00m config_is_locked():\n\u001b[1;32m   1049\u001b[0m   \u001b[39mraise\u001b[39;00m \u001b[39mRuntimeError\u001b[39;00m(\u001b[39m'\u001b[39m\u001b[39mAttempted to modify locked Gin config.\u001b[39m\u001b[39m'\u001b[39m)\n\u001b[0;32m-> 1051\u001b[0m pbk \u001b[39m=\u001b[39m ParsedBindingKey\u001b[39m.\u001b[39;49mparse(binding_key)\n\u001b[1;32m   1052\u001b[0m fn_dict \u001b[39m=\u001b[39m _CONFIG\u001b[39m.\u001b[39msetdefault(pbk\u001b[39m.\u001b[39mconfig_key, {})\n\u001b[1;32m   1053\u001b[0m fn_dict[pbk\u001b[39m.\u001b[39marg_name] \u001b[39m=\u001b[39m value\n",
      "File \u001b[0;32m/workspaces/MLopdracht/.venv/lib/python3.9/site-packages/gin/config.py:910\u001b[0m, in \u001b[0;36mParsedBindingKey.parse\u001b[0;34m(cls, binding_key)\u001b[0m\n\u001b[1;32m    908\u001b[0m configurable_ \u001b[39m=\u001b[39m _parse_context()\u001b[39m.\u001b[39mget_configurable(selector)\n\u001b[1;32m    909\u001b[0m \u001b[39mif\u001b[39;00m \u001b[39mnot\u001b[39;00m configurable_:\n\u001b[0;32m--> 910\u001b[0m   _raise_unknown_configurable_error(selector)\n\u001b[1;32m    912\u001b[0m \u001b[39mif\u001b[39;00m configurable_\u001b[39m.\u001b[39mis_method \u001b[39mand\u001b[39;00m \u001b[39m'\u001b[39m\u001b[39m.\u001b[39m\u001b[39m'\u001b[39m \u001b[39mnot\u001b[39;00m \u001b[39min\u001b[39;00m selector:\n\u001b[1;32m    913\u001b[0m   class_name \u001b[39m=\u001b[39m configurable_\u001b[39m.\u001b[39mselector\u001b[39m.\u001b[39msplit(\u001b[39m'\u001b[39m\u001b[39m.\u001b[39m\u001b[39m'\u001b[39m)[\u001b[39m-\u001b[39m\u001b[39m2\u001b[39m]\n",
      "File \u001b[0;32m/workspaces/MLopdracht/.venv/lib/python3.9/site-packages/gin/config.py:648\u001b[0m, in \u001b[0;36m_raise_unknown_configurable_error\u001b[0;34m(selector)\u001b[0m\n\u001b[1;32m    647\u001b[0m \u001b[39mdef\u001b[39;00m \u001b[39m_raise_unknown_configurable_error\u001b[39m(selector):\n\u001b[0;32m--> 648\u001b[0m   \u001b[39mraise\u001b[39;00m \u001b[39mValueError\u001b[39;00m(\u001b[39mf\u001b[39m\u001b[39m\"\u001b[39m\u001b[39mNo configurable matching \u001b[39m\u001b[39m'\u001b[39m\u001b[39m{\u001b[39;00mselector\u001b[39m}\u001b[39;00m\u001b[39m'\u001b[39m\u001b[39m.\u001b[39m\u001b[39m\"\u001b[39m)\n",
      "\u001b[0;31mValueError\u001b[0m: No configurable matching 'models.GRUmodel'.\n  In file \"test.gin\", line 8\n    models.GRUmodel.config = {"
     ]
    }
   ],
   "source": [
    "import mlflow\n",
    "from datetime import datetime\n",
    "import torch\n",
    "from src.models import train_model\n",
    "from pathlib import Path\n",
    "import gin\n",
    "\n",
    "from src.models import rnn_models\n",
    "\n",
    "mlflow.set_tracking_uri(\"sqlite:///mlflow.db\")\n",
    "mlflow.set_experiment(\"arabic\")\n",
    "modeldir = Path(\"../../models/arabic/\").resolve()\n",
    "# gin.parse_config_file(\"gestures.gin\")\n",
    "gin.parse_config_file(\"test.gin\")\n",
    "\n",
    "config = {\n",
    "    \"input_size\":3,\n",
    "    \"hidden_size\":128,\n",
    "    \"dropout\":0,\n",
    "    \"num_layers\":2,\n",
    "    \"output_size\":20\n",
    "}\n",
    "\n",
    "with mlflow.start_run():\n",
    "\n",
    "    # mlflow.log_params(gin.get_bindings(\"BaseRNN\"))\n",
    "    gin.bind_parameter(\"GRUmodel.config\", config)\n",
    "    mlflow.log_params(gin.get_bindings(\"GRUmodel\"))\n",
    "    mlflow.log_params(gin.get_bindings(\"trainloop\"))\n",
    "    mlflow.log_param(\"datadir\", f\"{data_dir}\")\n",
    "    mlflow.log_param(\"batchsize\", f\"{batchsize}\")\n",
    "\n",
    "    model = rnn_models.GRUmodel()\n",
    "\n",
    "    model, testloss = train_model.trainloop(\n",
    "        # loss_fn=torch.nn.CrossEntropyLoss(),\n",
    "        # optimizer=torch.optim.Adam,\n",
    "        # epochs=10,\n",
    "        # learning_rate=1e-3,\n",
    "        model=model,\n",
    "        metrics=[accuracy],\n",
    "        train_dataloader=trainstreamer,\n",
    "        test_dataloader=teststreamer,\n",
    "        log_dir=\"modellog\",\n",
    "        train_steps=len(trainstreamer),\n",
    "        eval_steps=len(teststreamer),\n",
    "        tunewriter=[\"tensorboard\", \"mlflow\", \"gin\"]\n",
    "    )\n",
    "    mlflow.pytorch.log_model(model, \"gru\")\n",
    "\n",
    "    # tag = datetime.now().strftime(\"%Y%m%d-%H%M\")\n",
    "    # modelpath = modeldir / (tag + \"model.pt\")\n",
    "    # torch.save(model, modelpath)\n",
    "    # mlflow.log_artifact(local_path=modelpath, artifact_path=\"pytorch_models\")"
   ]
  }
 ],
 "metadata": {
  "kernelspec": {
   "display_name": "Python 3",
   "language": "python",
   "name": "python3"
  },
  "language_info": {
   "codemirror_mode": {
    "name": "ipython",
    "version": 3
   },
   "file_extension": ".py",
   "mimetype": "text/x-python",
   "name": "python",
   "nbconvert_exporter": "python",
   "pygments_lexer": "ipython3",
   "version": "3.9.16"
  },
  "orig_nbformat": 4
 },
 "nbformat": 4,
 "nbformat_minor": 2
}
