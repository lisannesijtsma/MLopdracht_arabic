{
 "cells": [
  {
   "cell_type": "code",
   "execution_count": 3,
   "metadata": {},
   "outputs": [],
   "source": [
    "import sys\n",
    "sys.path.insert(0, \"../..\")"
   ]
  },
  {
   "cell_type": "code",
   "execution_count": 4,
   "metadata": {},
   "outputs": [],
   "source": [
    "from src.data.datasets import get_arabic\n",
    "from src.settings import presets"
   ]
  },
  {
   "cell_type": "code",
   "execution_count": 5,
   "metadata": {},
   "outputs": [
    {
     "data": {
      "text/plain": [
       "Settings(datadir=PosixPath('/workspaces/MLopdracht/data/raw'), testurl=HttpUrl('https://archive.ics.uci.edu/ml/machine-learning-databases/00195/Test_Arabic_Digit.txt', ), trainurl=HttpUrl('https://archive.ics.uci.edu/ml/machine-learning-databases/00195/Train_Arabic_Digit.txt', ), testfile=PosixPath('ArabicTest.txt'), trainfile=PosixPath('ArabicTrain.txt'), modeldir=PosixPath('/workspaces/MLopdracht/models'), logdir=PosixPath('/workspaces/MLopdracht/logs'), modelname='model.pt', batchsize=64)"
      ]
     },
     "execution_count": 5,
     "metadata": {},
     "output_type": "execute_result"
    }
   ],
   "source": [
    "presets"
   ]
  },
  {
   "cell_type": "code",
   "execution_count": 4,
   "metadata": {},
   "outputs": [
    {
     "name": "stderr",
     "output_type": "stream",
     "text": [
      "\u001b[32m2023-05-23 17:26:34.445\u001b[0m | \u001b[1mINFO    \u001b[0m | \u001b[36msrc.data_tools\u001b[0m:\u001b[36mget_file\u001b[0m:\u001b[36m61\u001b[0m - \u001b[1mFile /workspaces/MLopdracht/data/raw/ArabicTrain.txt already exists, skip download\u001b[0m\n",
      "\u001b[32m2023-05-23 17:26:34.446\u001b[0m | \u001b[1mINFO    \u001b[0m | \u001b[36msrc.data_tools\u001b[0m:\u001b[36mget_file\u001b[0m:\u001b[36m61\u001b[0m - \u001b[1mFile /workspaces/MLopdracht/data/raw/ArabicTest.txt already exists, skip download\u001b[0m\n",
      "\u001b[32m2023-05-23 17:26:34.447\u001b[0m | \u001b[1mINFO    \u001b[0m | \u001b[36msrc.datasets\u001b[0m:\u001b[36mget_arabic\u001b[0m:\u001b[36m33\u001b[0m - \u001b[1mLoading data from /workspaces/MLopdracht/data/raw/ArabicTrain.txt and /workspaces/MLopdracht/data/raw/ArabicTest.txt\u001b[0m\n",
      "\u001b[32m2023-05-23 17:26:35.016\u001b[0m | \u001b[1mINFO    \u001b[0m | \u001b[36msrc.datasets\u001b[0m:\u001b[36mget_arabic\u001b[0m:\u001b[36m49\u001b[0m - \u001b[1mReturning trainstreamer, teststreamer\u001b[0m\n"
     ]
    }
   ],
   "source": [
    "trainstreamer, teststreamer = get_arabic(presets)"
   ]
  },
  {
   "cell_type": "code",
   "execution_count": 5,
   "metadata": {},
   "outputs": [
    {
     "data": {
      "text/plain": [
       "(torch.Size([64, 58, 13]), torch.Size([64]))"
      ]
     },
     "execution_count": 5,
     "metadata": {},
     "output_type": "execute_result"
    }
   ],
   "source": [
    "x, y = next(iter(trainstreamer.stream()))\n",
    "x.shape, y.shape"
   ]
  }
 ],
 "metadata": {
  "kernelspec": {
   "display_name": "Python 3",
   "language": "python",
   "name": "python3"
  },
  "language_info": {
   "codemirror_mode": {
    "name": "ipython",
    "version": 3
   },
   "file_extension": ".py",
   "mimetype": "text/x-python",
   "name": "python",
   "nbconvert_exporter": "python",
   "pygments_lexer": "ipython3",
   "version": "3.9.16"
  },
  "orig_nbformat": 4
 },
 "nbformat": 4,
 "nbformat_minor": 2
}
